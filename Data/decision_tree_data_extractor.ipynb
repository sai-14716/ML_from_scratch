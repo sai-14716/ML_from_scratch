{
 "cells": [
  {
   "cell_type": "code",
   "execution_count": 1,
   "id": "4793a9b3-a89e-48d2-8a89-66842e9aec23",
   "metadata": {},
   "outputs": [],
   "source": [
    "import numpy as np\n",
    "import pandas as pd"
   ]
  },
  {
   "cell_type": "code",
   "execution_count": 11,
   "id": "8866d90f-328e-48b9-bb76-765d73cec451",
   "metadata": {},
   "outputs": [],
   "source": [
    "df = pd.read_csv('drug200.csv')\n",
    "# print(df)\n",
    "data = df.to_numpy()\n",
    "# print(data)\n",
    "X = data[:, :-1]\n",
    "# print(X)\n",
    "y = data[:, -1]\n",
    "# print(y)\n",
    "X_type = np.array(([1, 0, 0, 0, 1]))\n",
    "y_type = np.array(([0]))\n",
    "# print(X_type, y_type)"
   ]
  },
  {
   "cell_type": "markdown",
   "id": "e9962f1b-09de-428c-966b-57b3207b8083",
   "metadata": {},
   "source": [
    "# Building the Descision Tree"
   ]
  },
  {
   "cell_type": "code",
   "execution_count": null,
   "id": "06cb6f73-905b-41ca-948b-efda609691a5",
   "metadata": {},
   "outputs": [],
   "source": []
  }
 ],
 "metadata": {
  "kernelspec": {
   "display_name": "Python 3 (ipykernel)",
   "language": "python",
   "name": "python3"
  },
  "language_info": {
   "codemirror_mode": {
    "name": "ipython",
    "version": 3
   },
   "file_extension": ".py",
   "mimetype": "text/x-python",
   "name": "python",
   "nbconvert_exporter": "python",
   "pygments_lexer": "ipython3",
   "version": "3.12.3"
  }
 },
 "nbformat": 4,
 "nbformat_minor": 5
}
