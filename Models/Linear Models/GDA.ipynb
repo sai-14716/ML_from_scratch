{
 "cells": [
  {
   "cell_type": "markdown",
   "id": "7ed426c1-8b82-4029-9255-cf996b0473ca",
   "metadata": {},
   "source": [
    "# Gaussian Discriminant Analysis\n",
    "## This is a Linear/Quadractic Classification, Generative and supervised learning Algorithm\n",
    "We are using the LDA here"
   ]
  },
  {
   "cell_type": "code",
   "execution_count": null,
   "id": "d8e7fa32-103a-4798-9a21-28d5c043a569",
   "metadata": {},
   "outputs": [],
   "source": [
    "import numpy\n",
    "import math"
   ]
  },
  {
   "cell_type": "code",
   "execution_count": 2,
   "id": "3eb1de06-020b-4ddc-8840-abf3caacc4a5",
   "metadata": {},
   "outputs": [],
   "source": [
    "class GDA:\n",
    "    def __init__(self, phi, n):\n",
    "        self.phi = phi\n",
    "        n = n\n",
    "    def fit(self, X, y):\n",
    "\n",
    "        self._preprocess()\n",
    "        n = X.shape[1]\n",
    "        outputs, count = np.unique(y, return_counts = True)\n",
    "        self.outputs = outputs\n",
    "        self.mu = []\n",
    "        self.sigma = np.zeros((n, n))\n",
    "        \n",
    "\n",
    "        self.phi = np.sum(y)/len(y)\n",
    "        for i in range(len(outputs)):\n",
    "            mask = y == outputs[i]\n",
    "            self.mu.append(self._find_mu(X[mask]))\n",
    "\n",
    "        for i in range(len(y)):\n",
    "            self.sigma += (X[i] - self.mu[y[i]]) @ (X[i] - self.mu[y[i]]).T\n",
    "        \n",
    "    def _preprocess(self, X, y):\n",
    "        #Use the sklearn preprocess\n",
    "        return\n",
    "        \n",
    "    def _find_mu(self, X):\n",
    "        mu = np.sum(X, axis = 1)/X.shape[0]\n",
    "        return mu\n",
    "\n",
    "    def predict(self, x):\n",
    "        max = 0\n",
    "        p_x = 0\n",
    "        p_yx = []\n",
    "        for i in range(len(self.outputs)):\n",
    "            p_x_y = self._gausian(x, mu[i]))\n",
    "            p_yx.append(p_x_y * self.phi) \n",
    "            p_x += p_yx[i]\n",
    "        for i in range(len(p_yx)):\n",
    "            p_yx[i] = p_yx[i] / p_x\n",
    "            if(p_yx > max):\n",
    "                max = p_yx\n",
    "        \n",
    "            \n",
    "    def _gausian(self, x):\n",
    "        n = len(x)\n",
    "        p = (2 * math.pi) ** (-1*n / 2)\n",
    "        p = p * ((numpy.linalg.det(self.sigma)) ** 0.5)\n",
    "        p = p * np.exp(-0.5 * ((x - self.mu).T @ self.sigma.T @ (x - self.mu)))\n",
    "\n",
    "        return p"
   ]
  }
 ],
 "metadata": {
  "kernelspec": {
   "display_name": "Python 3 (ipykernel)",
   "language": "python",
   "name": "python3"
  },
  "language_info": {
   "codemirror_mode": {
    "name": "ipython",
    "version": 3
   },
   "file_extension": ".py",
   "mimetype": "text/x-python",
   "name": "python",
   "nbconvert_exporter": "python",
   "pygments_lexer": "ipython3",
   "version": "3.12.3"
  }
 },
 "nbformat": 4,
 "nbformat_minor": 5
}
